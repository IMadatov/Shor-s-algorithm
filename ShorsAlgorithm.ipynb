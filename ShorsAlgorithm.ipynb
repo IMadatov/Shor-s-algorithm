{
 "cells": [
  {
   "cell_type": "code",
   "execution_count": 17,
   "id": "a940f180",
   "metadata": {},
   "outputs": [
    {
     "name": "stdout",
     "output_type": "stream",
     "text": [
      "Package                   Version\n",
      "------------------------- ---------\n",
      "appdirs                   1.4.4\n",
      "asttokens                 2.4.1\n",
      "attrs                     23.2.0\n",
      "auto-py-to-exe            2.42.0\n",
      "beautifulsoup4            4.12.3\n",
      "bottle                    0.12.25\n",
      "bottle-websocket          0.2.9\n",
      "certifi                   2024.2.2\n",
      "cffi                      1.16.0\n",
      "charset-normalizer        3.3.2\n",
      "colorama                  0.4.6\n",
      "comm                      0.2.2\n",
      "cryptography              42.0.7\n",
      "debugpy                   1.8.1\n",
      "decorator                 5.1.1\n",
      "dill                      0.3.8\n",
      "dlx                       1.0.4\n",
      "docplex                   2.27.239\n",
      "Eel                       0.16.0\n",
      "exceptiongroup            1.2.0\n",
      "executing                 2.0.1\n",
      "fastdtw                   0.3.4\n",
      "fastjsonschema            2.19.1\n",
      "frozendict                2.4.4\n",
      "future                    0.18.3\n",
      "gevent                    23.9.1\n",
      "gevent-websocket          0.10.1\n",
      "greenlet                  3.0.3\n",
      "h5py                      3.2.1\n",
      "html5lib                  1.1\n",
      "idna                      3.7\n",
      "importlib_metadata        7.1.0\n",
      "inflection                0.5.1\n",
      "ipykernel                 6.29.3\n",
      "ipython                   8.18.1\n",
      "jedi                      0.19.1\n",
      "joblib                    1.4.2\n",
      "jsonschema                4.22.0\n",
      "jsonschema-specifications 2023.12.1\n",
      "jupyter_client            8.6.1\n",
      "jupyter_core              5.7.2\n",
      "lxml                      5.2.2\n",
      "matplotlib-inline         0.1.7\n",
      "more-itertools            10.2.0\n",
      "mpmath                    1.3.0\n",
      "multitasking              0.0.11\n",
      "nest_asyncio              1.6.0\n",
      "numpy                     1.26.4\n",
      "packaging                 24.0\n",
      "pandas                    2.2.2\n",
      "parso                     0.8.4\n",
      "peewee                    3.17.5\n",
      "pickleshare               0.7.5\n",
      "pip                       23.3.2\n",
      "platformdirs              4.2.2\n",
      "ply                       3.11\n",
      "prompt-toolkit            3.0.42\n",
      "psutil                    5.9.8\n",
      "pure-eval                 0.2.2\n",
      "pybind11                  2.12.0\n",
      "pycparser                 2.22\n",
      "pycryptodome              3.20.0\n",
      "Pygments                  2.18.0\n",
      "pyspnego                  0.10.2\n",
      "python-constraint         1.4.0\n",
      "python-dateutil           2.9.0\n",
      "pytz                      2024.1\n",
      "pywin32                   306\n",
      "pyzmq                     26.0.3\n",
      "qiskit                    0.30.0\n",
      "qiskit-aer                0.9.0\n",
      "qiskit-aqua               0.9.5\n",
      "qiskit-ibmq-provider      0.16.0\n",
      "qiskit-ignis              0.6.0\n",
      "qiskit-terra              0.18.2\n",
      "Quandl                    3.7.0\n",
      "referencing               0.35.1\n",
      "requests                  2.31.0\n",
      "requests-ntlm             1.2.0\n",
      "retworkx                  0.14.2\n",
      "rpds-py                   0.18.1\n",
      "rustworkx                 0.14.2\n",
      "scikit-learn              1.4.2\n",
      "scipy                     1.13.0\n",
      "setuptools                69.5.1\n",
      "six                       1.16.0\n",
      "soupsieve                 2.5\n",
      "sspilib                   0.1.0\n",
      "stack-data                0.6.2\n",
      "sympy                     1.12\n",
      "threadpoolctl             3.5.0\n",
      "tornado                   6.4\n",
      "traitlets                 5.14.3\n",
      "tweedledum                1.1.1\n",
      "typing_extensions         4.11.0\n",
      "tzdata                    2024.1\n",
      "urllib3                   2.2.1\n",
      "wcwidth                   0.2.13\n",
      "webencodings              0.5.1\n",
      "websocket-client          1.8.0\n",
      "wheel                     0.43.0\n",
      "whichcraft                0.6.1\n",
      "yfinance                  0.2.38\n",
      "zipp                      3.17.0\n",
      "zope.event                5.0\n",
      "zope.interface            6.1\n"
     ]
    },
    {
     "name": "stderr",
     "output_type": "stream",
     "text": [
      "\n",
      "[notice] A new release of pip is available: 23.3.2 -> 24.0\n",
      "[notice] To update, run: python.exe -m pip install --upgrade pip\n"
     ]
    }
   ],
   "source": [
    "!pip list"
   ]
  },
  {
   "cell_type": "code",
   "execution_count": 2,
   "id": "663f457d",
   "metadata": {},
   "outputs": [
    {
     "name": "stderr",
     "output_type": "stream",
     "text": [
      "c:\\Users\\madat\\.conda\\envs\\env39\\lib\\site-packages\\qiskit\\circuit\\equivalence.py:18: DeprecationWarning: The retworkx package is deprecated and has been renamed to rustworkx. Rustworkx is a drop-in replacement and can be used by replacing `import retworkx` with import `rustworkx`. \n",
      "  import retworkx as rx\n",
      "c:\\Users\\madat\\.conda\\envs\\env39\\lib\\site-packages\\qiskit\\version.py:20: DeprecationWarning: pkg_resources is deprecated as an API. See https://setuptools.pypa.io/en/latest/pkg_resources.html\n",
      "  import pkg_resources\n",
      "c:\\Users\\madat\\.conda\\envs\\env39\\lib\\site-packages\\qiskit\\aqua\\__init__.py:86: DeprecationWarning: The package qiskit.aqua is deprecated. It was moved/refactored to qiskit-terra For more information see <https://github.com/Qiskit/qiskit-aqua/blob/main/README.md#migration-guide>\n",
      "  warn_package('aqua', 'qiskit-terra')\n"
     ]
    }
   ],
   "source": [
    "from qiskit.aqua.algorithms import Shor\n",
    "from qiskit.aqua import QuantumInstance\n",
    "import numpy as np \n",
    "from qiskit import QuantumCircuit, Aer, execute\n",
    "from qiskit.tools.visualization import plot_histogram "
   ]
  },
  {
   "cell_type": "code",
   "execution_count": 4,
   "id": "fde4e94c",
   "metadata": {},
   "outputs": [],
   "source": [
    "backend = Aer.get_backend('qasm_simulator')\n",
    "quantum_instance = QuantumInstance(backend,shots=1000)\n",
    "\n",
    "number_to_factor = 21\n",
    "\n",
    "my_shor= Shor(N=number_to_factor,a = 2, quantum_instance=quantum_instance)"
   ]
  },
  {
   "cell_type": "code",
   "execution_count": 5,
   "id": "2376de42",
   "metadata": {},
   "outputs": [
    {
     "name": "stderr",
     "output_type": "stream",
     "text": [
      "c:\\Users\\madat\\.conda\\envs\\env39\\lib\\site-packages\\qiskit\\utils\\deprecation.py:62: DeprecationWarning: Using a qobj for run() is deprecated as of qiskit-aer 0.9.0 and will be removed no sooner than 3 months from that release date. Transpiled circuits should now be passed directly using `backend.run(circuits, **run_options).\n",
      "  return func(*args, **kwargs)\n"
     ]
    },
    {
     "data": {
      "text/plain": [
       "{'factors': [[3, 7]], 'total_counts': 127, 'successful_counts': 27}"
      ]
     },
     "execution_count": 5,
     "metadata": {},
     "output_type": "execute_result"
    }
   ],
   "source": [
    "Shor.run(my_shor)"
   ]
  },
  {
   "cell_type": "code",
   "execution_count": 6,
   "id": "3bd0de58",
   "metadata": {},
   "outputs": [
    {
     "data": {
      "text/plain": [
       "29"
      ]
     },
     "execution_count": 6,
     "metadata": {},
     "output_type": "execute_result"
    }
   ],
   "source": [
    "backend.configuration().n_qubits"
   ]
  },
  {
   "cell_type": "code",
   "execution_count": 7,
   "id": "ebf4222e",
   "metadata": {},
   "outputs": [],
   "source": [
    "def c_amod15(a,power):\n",
    "    U = QuantumCircuit(4)\n",
    "    for iteration in range(power):\n",
    "        U.swap(2,3)\n",
    "        U.swap(1,2)\n",
    "        U.swap(0,1)\n",
    "        for q in range(4):\n",
    "            U.x(q)\n",
    "    U = U.to_gate()\n",
    "    U.name = \"%i^%i mod 15\" % (a,power)\n",
    "    c_U = U.control()\n",
    "    return c_U"
   ]
  },
  {
   "cell_type": "code",
   "execution_count": 8,
   "id": "64970a1b",
   "metadata": {},
   "outputs": [],
   "source": [
    "n_count = 8\n",
    "a = 7"
   ]
  },
  {
   "cell_type": "code",
   "execution_count": 9,
   "id": "53c6ab40",
   "metadata": {},
   "outputs": [],
   "source": [
    "def qft_dagger(n):\n",
    "    qc= QuantumCircuit(n)\n",
    "    for qubit in range(n//2):\n",
    "        qc.swap(qubit,n-qubit-1)\n",
    "    for j in range(n):\n",
    "        for m in range(j):\n",
    "            qc.cu1(-np.pi/float(2**(j-m)),m,j)\n",
    "        qc.h(j)\n",
    "    qc.name=\"QFT dager\"\n",
    "    return qc"
   ]
  },
  {
   "cell_type": "code",
   "execution_count": 10,
   "id": "afd4dda3",
   "metadata": {},
   "outputs": [
    {
     "name": "stderr",
     "output_type": "stream",
     "text": [
      "C:\\Users\\madat\\AppData\\Local\\Temp\\ipykernel_25448\\2782511477.py:7: DeprecationWarning: The QuantumCircuit.cu1 method is deprecated as of 0.16.0. It will be removed no earlier than 3 months after the release date. You should use the QuantumCircuit.cp method instead, which acts identically.\n",
      "  qc.cu1(-np.pi/float(2**(j-m)),m,j)\n"
     ]
    },
    {
     "data": {
      "text/plain": [
       "<qiskit.circuit.instructionset.InstructionSet at 0x15e2974d670>"
      ]
     },
     "execution_count": 10,
     "metadata": {},
     "output_type": "execute_result"
    }
   ],
   "source": [
    "qc =QuantumCircuit(n_count+4,n_count)\n",
    "\n",
    "for q in range(n_count):\n",
    "    qc.h(q)\n",
    "\n",
    "qc.x(3+n_count)\n",
    "\n",
    "for q in range(n_count):\n",
    "    qc.append(c_amod15(a,2**q), [q]+[i+n_count for i in range(4)])\n",
    "qc.append(qft_dagger(n_count),range(n_count))\n",
    "\n"
   ]
  },
  {
   "cell_type": "code",
   "execution_count": 11,
   "id": "4b42e1e5",
   "metadata": {},
   "outputs": [
    {
     "data": {
      "text/html": [
       "<pre style=\"word-wrap: normal;white-space: pre;background: #fff0;line-height: 1.1;font-family: &quot;Courier New&quot;,Courier,monospace\">      ┌───┐                                                            »\n",
       " q_0: ┤ H ├───────■────────────────────────────────────────────────────»\n",
       "      ├───┤       │                                                    »\n",
       " q_1: ┤ H ├───────┼──────────────■─────────────────────────────────────»\n",
       "      ├───┤       │              │                                     »\n",
       " q_2: ┤ H ├───────┼──────────────┼──────────────■──────────────────────»\n",
       "      ├───┤       │              │              │                      »\n",
       " q_3: ┤ H ├───────┼──────────────┼──────────────┼──────────────■───────»\n",
       "      ├───┤       │              │              │              │       »\n",
       " q_4: ┤ H ├───────┼──────────────┼──────────────┼──────────────┼───────»\n",
       "      ├───┤       │              │              │              │       »\n",
       " q_5: ┤ H ├───────┼──────────────┼──────────────┼──────────────┼───────»\n",
       "      ├───┤       │              │              │              │       »\n",
       " q_6: ┤ H ├───────┼──────────────┼──────────────┼──────────────┼───────»\n",
       "      ├───┤       │              │              │              │       »\n",
       " q_7: ┤ H ├───────┼──────────────┼──────────────┼──────────────┼───────»\n",
       "      └───┘┌──────┴──────┐┌──────┴──────┐┌──────┴──────┐┌──────┴──────┐»\n",
       " q_8: ─────┤0            ├┤0            ├┤0            ├┤0            ├»\n",
       "           │             ││             ││             ││             │»\n",
       " q_9: ─────┤1            ├┤1            ├┤1            ├┤1            ├»\n",
       "           │  7^1 mod 15 ││  7^2 mod 15 ││  7^4 mod 15 ││  7^8 mod 15 │»\n",
       "q_10: ─────┤2            ├┤2            ├┤2            ├┤2            ├»\n",
       "      ┌───┐│             ││             ││             ││             │»\n",
       "q_11: ┤ X ├┤3            ├┤3            ├┤3            ├┤3            ├»\n",
       "      └───┘└─────────────┘└─────────────┘└─────────────┘└─────────────┘»\n",
       " c: 8/═════════════════════════════════════════════════════════════════»\n",
       "                                                                       »\n",
       "«                                                                       »\n",
       "« q_0: ─────────────────────────────────────────────────────────────────»\n",
       "«                                                                       »\n",
       "« q_1: ─────────────────────────────────────────────────────────────────»\n",
       "«                                                                       »\n",
       "« q_2: ─────────────────────────────────────────────────────────────────»\n",
       "«                                                                       »\n",
       "« q_3: ─────────────────────────────────────────────────────────────────»\n",
       "«                                                                       »\n",
       "« q_4: ───────■─────────────────────────────────────────────────────────»\n",
       "«             │                                                         »\n",
       "« q_5: ───────┼───────────────■─────────────────────────────────────────»\n",
       "«             │               │                                         »\n",
       "« q_6: ───────┼───────────────┼───────────────■─────────────────────────»\n",
       "«             │               │               │                         »\n",
       "« q_7: ───────┼───────────────┼───────────────┼────────────────■────────»\n",
       "«      ┌──────┴───────┐┌──────┴───────┐┌──────┴───────┐┌───────┴───────┐»\n",
       "« q_8: ┤0             ├┤0             ├┤0             ├┤0              ├»\n",
       "«      │              ││              ││              ││               │»\n",
       "« q_9: ┤1             ├┤1             ├┤1             ├┤1              ├»\n",
       "«      │  7^16 mod 15 ││  7^32 mod 15 ││  7^64 mod 15 ││  7^128 mod 15 │»\n",
       "«q_10: ┤2             ├┤2             ├┤2             ├┤2              ├»\n",
       "«      │              ││              ││              ││               │»\n",
       "«q_11: ┤3             ├┤3             ├┤3             ├┤3              ├»\n",
       "«      └──────────────┘└──────────────┘└──────────────┘└───────────────┘»\n",
       "« c: 8/═════════════════════════════════════════════════════════════════»\n",
       "«                                                                       »\n",
       "«      ┌────────────┐┌─┐                     ┌─┐                     \n",
       "« q_0: ┤0           ├┤M├─────────────────────┤M├─────────────────────\n",
       "«      │            │└╥┘┌─┐                  └╥┘┌─┐                  \n",
       "« q_1: ┤1           ├─╫─┤M├───────────────────╫─┤M├──────────────────\n",
       "«      │            │ ║ └╥┘┌─┐                ║ └╥┘┌─┐               \n",
       "« q_2: ┤2           ├─╫──╫─┤M├────────────────╫──╫─┤M├───────────────\n",
       "«      │            │ ║  ║ └╥┘┌─┐             ║  ║ └╥┘┌─┐            \n",
       "« q_3: ┤3           ├─╫──╫──╫─┤M├─────────────╫──╫──╫─┤M├────────────\n",
       "«      │  QFT dager │ ║  ║  ║ └╥┘┌─┐          ║  ║  ║ └╥┘┌─┐         \n",
       "« q_4: ┤4           ├─╫──╫──╫──╫─┤M├──────────╫──╫──╫──╫─┤M├─────────\n",
       "«      │            │ ║  ║  ║  ║ └╥┘┌─┐       ║  ║  ║  ║ └╥┘┌─┐      \n",
       "« q_5: ┤5           ├─╫──╫──╫──╫──╫─┤M├───────╫──╫──╫──╫──╫─┤M├──────\n",
       "«      │            │ ║  ║  ║  ║  ║ └╥┘┌─┐    ║  ║  ║  ║  ║ └╥┘┌─┐   \n",
       "« q_6: ┤6           ├─╫──╫──╫──╫──╫──╫─┤M├────╫──╫──╫──╫──╫──╫─┤M├───\n",
       "«      │            │ ║  ║  ║  ║  ║  ║ └╥┘┌─┐ ║  ║  ║  ║  ║  ║ └╥┘┌─┐\n",
       "« q_7: ┤7           ├─╫──╫──╫──╫──╫──╫──╫─┤M├─╫──╫──╫──╫──╫──╫──╫─┤M├\n",
       "«      └────────────┘ ║  ║  ║  ║  ║  ║  ║ └╥┘ ║  ║  ║  ║  ║  ║  ║ └╥┘\n",
       "« q_8: ───────────────╫──╫──╫──╫──╫──╫──╫──╫──╫──╫──╫──╫──╫──╫──╫──╫─\n",
       "«                     ║  ║  ║  ║  ║  ║  ║  ║  ║  ║  ║  ║  ║  ║  ║  ║ \n",
       "« q_9: ───────────────╫──╫──╫──╫──╫──╫──╫──╫──╫──╫──╫──╫──╫──╫──╫──╫─\n",
       "«                     ║  ║  ║  ║  ║  ║  ║  ║  ║  ║  ║  ║  ║  ║  ║  ║ \n",
       "«q_10: ───────────────╫──╫──╫──╫──╫──╫──╫──╫──╫──╫──╫──╫──╫──╫──╫──╫─\n",
       "«                     ║  ║  ║  ║  ║  ║  ║  ║  ║  ║  ║  ║  ║  ║  ║  ║ \n",
       "«q_11: ───────────────╫──╫──╫──╫──╫──╫──╫──╫──╫──╫──╫──╫──╫──╫──╫──╫─\n",
       "«                     ║  ║  ║  ║  ║  ║  ║  ║  ║  ║  ║  ║  ║  ║  ║  ║ \n",
       "« c: 8/═══════════════╩══╩══╩══╩══╩══╩══╩══╩══╩══╩══╩══╩══╩══╩══╩══╩═\n",
       "«                     0  1  2  3  4  5  6  7  0  1  2  3  4  5  6  7 </pre>"
      ],
      "text/plain": [
       "      ┌───┐                                                            »\n",
       " q_0: ┤ H ├───────■────────────────────────────────────────────────────»\n",
       "      ├───┤       │                                                    »\n",
       " q_1: ┤ H ├───────┼──────────────■─────────────────────────────────────»\n",
       "      ├───┤       │              │                                     »\n",
       " q_2: ┤ H ├───────┼──────────────┼──────────────■──────────────────────»\n",
       "      ├───┤       │              │              │                      »\n",
       " q_3: ┤ H ├───────┼──────────────┼──────────────┼──────────────■───────»\n",
       "      ├───┤       │              │              │              │       »\n",
       " q_4: ┤ H ├───────┼──────────────┼──────────────┼──────────────┼───────»\n",
       "      ├───┤       │              │              │              │       »\n",
       " q_5: ┤ H ├───────┼──────────────┼──────────────┼──────────────┼───────»\n",
       "      ├───┤       │              │              │              │       »\n",
       " q_6: ┤ H ├───────┼──────────────┼──────────────┼──────────────┼───────»\n",
       "      ├───┤       │              │              │              │       »\n",
       " q_7: ┤ H ├───────┼──────────────┼──────────────┼──────────────┼───────»\n",
       "      └───┘┌──────┴──────┐┌──────┴──────┐┌──────┴──────┐┌──────┴──────┐»\n",
       " q_8: ─────┤0            ├┤0            ├┤0            ├┤0            ├»\n",
       "           │             ││             ││             ││             │»\n",
       " q_9: ─────┤1            ├┤1            ├┤1            ├┤1            ├»\n",
       "           │  7^1 mod 15 ││  7^2 mod 15 ││  7^4 mod 15 ││  7^8 mod 15 │»\n",
       "q_10: ─────┤2            ├┤2            ├┤2            ├┤2            ├»\n",
       "      ┌───┐│             ││             ││             ││             │»\n",
       "q_11: ┤ X ├┤3            ├┤3            ├┤3            ├┤3            ├»\n",
       "      └───┘└─────────────┘└─────────────┘└─────────────┘└─────────────┘»\n",
       " c: 8/═════════════════════════════════════════════════════════════════»\n",
       "                                                                       »\n",
       "«                                                                       »\n",
       "« q_0: ─────────────────────────────────────────────────────────────────»\n",
       "«                                                                       »\n",
       "« q_1: ─────────────────────────────────────────────────────────────────»\n",
       "«                                                                       »\n",
       "« q_2: ─────────────────────────────────────────────────────────────────»\n",
       "«                                                                       »\n",
       "« q_3: ─────────────────────────────────────────────────────────────────»\n",
       "«                                                                       »\n",
       "« q_4: ───────■─────────────────────────────────────────────────────────»\n",
       "«             │                                                         »\n",
       "« q_5: ───────┼───────────────■─────────────────────────────────────────»\n",
       "«             │               │                                         »\n",
       "« q_6: ───────┼───────────────┼───────────────■─────────────────────────»\n",
       "«             │               │               │                         »\n",
       "« q_7: ───────┼───────────────┼───────────────┼────────────────■────────»\n",
       "«      ┌──────┴───────┐┌──────┴───────┐┌──────┴───────┐┌───────┴───────┐»\n",
       "« q_8: ┤0             ├┤0             ├┤0             ├┤0              ├»\n",
       "«      │              ││              ││              ││               │»\n",
       "« q_9: ┤1             ├┤1             ├┤1             ├┤1              ├»\n",
       "«      │  7^16 mod 15 ││  7^32 mod 15 ││  7^64 mod 15 ││  7^128 mod 15 │»\n",
       "«q_10: ┤2             ├┤2             ├┤2             ├┤2              ├»\n",
       "«      │              ││              ││              ││               │»\n",
       "«q_11: ┤3             ├┤3             ├┤3             ├┤3              ├»\n",
       "«      └──────────────┘└──────────────┘└──────────────┘└───────────────┘»\n",
       "« c: 8/═════════════════════════════════════════════════════════════════»\n",
       "«                                                                       »\n",
       "«      ┌────────────┐┌─┐                     ┌─┐                     \n",
       "« q_0: ┤0           ├┤M├─────────────────────┤M├─────────────────────\n",
       "«      │            │└╥┘┌─┐                  └╥┘┌─┐                  \n",
       "« q_1: ┤1           ├─╫─┤M├───────────────────╫─┤M├──────────────────\n",
       "«      │            │ ║ └╥┘┌─┐                ║ └╥┘┌─┐               \n",
       "« q_2: ┤2           ├─╫──╫─┤M├────────────────╫──╫─┤M├───────────────\n",
       "«      │            │ ║  ║ └╥┘┌─┐             ║  ║ └╥┘┌─┐            \n",
       "« q_3: ┤3           ├─╫──╫──╫─┤M├─────────────╫──╫──╫─┤M├────────────\n",
       "«      │  QFT dager │ ║  ║  ║ └╥┘┌─┐          ║  ║  ║ └╥┘┌─┐         \n",
       "« q_4: ┤4           ├─╫──╫──╫──╫─┤M├──────────╫──╫──╫──╫─┤M├─────────\n",
       "«      │            │ ║  ║  ║  ║ └╥┘┌─┐       ║  ║  ║  ║ └╥┘┌─┐      \n",
       "« q_5: ┤5           ├─╫──╫──╫──╫──╫─┤M├───────╫──╫──╫──╫──╫─┤M├──────\n",
       "«      │            │ ║  ║  ║  ║  ║ └╥┘┌─┐    ║  ║  ║  ║  ║ └╥┘┌─┐   \n",
       "« q_6: ┤6           ├─╫──╫──╫──╫──╫──╫─┤M├────╫──╫──╫──╫──╫──╫─┤M├───\n",
       "«      │            │ ║  ║  ║  ║  ║  ║ └╥┘┌─┐ ║  ║  ║  ║  ║  ║ └╥┘┌─┐\n",
       "« q_7: ┤7           ├─╫──╫──╫──╫──╫──╫──╫─┤M├─╫──╫──╫──╫──╫──╫──╫─┤M├\n",
       "«      └────────────┘ ║  ║  ║  ║  ║  ║  ║ └╥┘ ║  ║  ║  ║  ║  ║  ║ └╥┘\n",
       "« q_8: ───────────────╫──╫──╫──╫──╫──╫──╫──╫──╫──╫──╫──╫──╫──╫──╫──╫─\n",
       "«                     ║  ║  ║  ║  ║  ║  ║  ║  ║  ║  ║  ║  ║  ║  ║  ║ \n",
       "« q_9: ───────────────╫──╫──╫──╫──╫──╫──╫──╫──╫──╫──╫──╫──╫──╫──╫──╫─\n",
       "«                     ║  ║  ║  ║  ║  ║  ║  ║  ║  ║  ║  ║  ║  ║  ║  ║ \n",
       "«q_10: ───────────────╫──╫──╫──╫──╫──╫──╫──╫──╫──╫──╫──╫──╫──╫──╫──╫─\n",
       "«                     ║  ║  ║  ║  ║  ║  ║  ║  ║  ║  ║  ║  ║  ║  ║  ║ \n",
       "«q_11: ───────────────╫──╫──╫──╫──╫──╫──╫──╫──╫──╫──╫──╫──╫──╫──╫──╫─\n",
       "«                     ║  ║  ║  ║  ║  ║  ║  ║  ║  ║  ║  ║  ║  ║  ║  ║ \n",
       "« c: 8/═══════════════╩══╩══╩══╩══╩══╩══╩══╩══╩══╩══╩══╩══╩══╩══╩══╩═\n",
       "«                     0  1  2  3  4  5  6  7  0  1  2  3  4  5  6  7 "
      ]
     },
     "execution_count": 11,
     "metadata": {},
     "output_type": "execute_result"
    }
   ],
   "source": [
    "qc.measure(range(n_count),range(n_count))\n",
    "qc.measure(range(n_count),range(n_count))\n",
    "qc.draw('text')"
   ]
  },
  {
   "cell_type": "code",
   "execution_count": null,
   "id": "ceb8ae51",
   "metadata": {},
   "outputs": [],
   "source": []
  }
 ],
 "metadata": {
  "kernelspec": {
   "display_name": "qiskit_legacy",
   "language": "python",
   "name": "python3"
  },
  "language_info": {
   "codemirror_mode": {
    "name": "ipython",
    "version": 3
   },
   "file_extension": ".py",
   "mimetype": "text/x-python",
   "name": "python",
   "nbconvert_exporter": "python",
   "pygments_lexer": "ipython3",
   "version": "3.9.19"
  }
 },
 "nbformat": 4,
 "nbformat_minor": 5
}
